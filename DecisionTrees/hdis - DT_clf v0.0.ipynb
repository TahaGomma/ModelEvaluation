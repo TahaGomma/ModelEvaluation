{
 "cells": [
  {
   "cell_type": "markdown",
   "id": "8988ae67-b1b6-472f-b66c-3662d5827fee",
   "metadata": {},
   "source": [
    "Import relevant notebooks"
   ]
  },
  {
   "cell_type": "code",
   "execution_count": 34,
   "id": "b74e348f-bc4b-4c57-ad98-1ff2ad06e4db",
   "metadata": {},
   "outputs": [],
   "source": [
    "import pandas as pd\n",
    "import numpy as np\n",
    "import matplotlib.pyplot as plt\n",
    "from sklearn.tree import DecisionTreeClassifier\n",
    "from sklearn.tree import plot_tree\n",
    "from sklearn.model_selection import train_test_split\n",
    "from sklearn.model_selection import cross_val_score\n",
    "from sklearn.metrics import confusion_matrix\n",
    "from sklearn.metrics import plot_confusion_matrix\n",
    "import urllib.request"
   ]
  },
  {
   "cell_type": "markdown",
   "id": "271b493b-f924-4c8c-bcfe-5727e66af018",
   "metadata": {},
   "source": [
    "-----------------------------------"
   ]
  },
  {
   "cell_type": "markdown",
   "id": "ea2a95d2-f5a7-4198-806f-a91febf1df5d",
   "metadata": {},
   "source": [
    "Import data"
   ]
  },
  {
   "cell_type": "code",
   "execution_count": 35,
   "id": "9a0fd0f4-ddb5-4d74-b527-49ff01fb97ca",
   "metadata": {},
   "outputs": [],
   "source": [
    "## Import from processed.cleveland.data to get heart disease data\n",
    "df = pd.read_csv('processed.cleveland.data',\n",
    "                header=None)\n",
    "\n",
    "# \"\"\"\n",
    "#  ## Import data when not downloaded\n",
    "#  df = pd.read_csv('https://archive.ics.uci.edu/ml/machine-learning-databases/heart-disease/processed.cleveland.data'\n",
    "#                  header=None)\n",
    "# \"\"\""
   ]
  },
  {
   "cell_type": "markdown",
   "id": "6cd1e824-0d9e-4537-92d5-0bd5a593e190",
   "metadata": {},
   "source": [
    "Data is now loaded in a dataframe called \"df\".\n",
    "\n",
    "Next, a summary will be loaded."
   ]
  },
  {
   "cell_type": "code",
   "execution_count": 36,
   "id": "d4e1a1a9-521d-4f6b-9b4c-c88a9c340521",
   "metadata": {},
   "outputs": [
    {
     "data": {
      "text/html": [
       "<div>\n",
       "<style scoped>\n",
       "    .dataframe tbody tr th:only-of-type {\n",
       "        vertical-align: middle;\n",
       "    }\n",
       "\n",
       "    .dataframe tbody tr th {\n",
       "        vertical-align: top;\n",
       "    }\n",
       "\n",
       "    .dataframe thead th {\n",
       "        text-align: right;\n",
       "    }\n",
       "</style>\n",
       "<table border=\"1\" class=\"dataframe\">\n",
       "  <thead>\n",
       "    <tr style=\"text-align: right;\">\n",
       "      <th></th>\n",
       "      <th>0</th>\n",
       "      <th>1</th>\n",
       "      <th>2</th>\n",
       "      <th>3</th>\n",
       "      <th>4</th>\n",
       "      <th>5</th>\n",
       "      <th>6</th>\n",
       "      <th>7</th>\n",
       "      <th>8</th>\n",
       "      <th>9</th>\n",
       "      <th>10</th>\n",
       "      <th>11</th>\n",
       "      <th>12</th>\n",
       "      <th>13</th>\n",
       "    </tr>\n",
       "  </thead>\n",
       "  <tbody>\n",
       "    <tr>\n",
       "      <th>0</th>\n",
       "      <td>63.0</td>\n",
       "      <td>1.0</td>\n",
       "      <td>1.0</td>\n",
       "      <td>145.0</td>\n",
       "      <td>233.0</td>\n",
       "      <td>1.0</td>\n",
       "      <td>2.0</td>\n",
       "      <td>150.0</td>\n",
       "      <td>0.0</td>\n",
       "      <td>2.3</td>\n",
       "      <td>3.0</td>\n",
       "      <td>0.0</td>\n",
       "      <td>6.0</td>\n",
       "      <td>0</td>\n",
       "    </tr>\n",
       "    <tr>\n",
       "      <th>1</th>\n",
       "      <td>67.0</td>\n",
       "      <td>1.0</td>\n",
       "      <td>4.0</td>\n",
       "      <td>160.0</td>\n",
       "      <td>286.0</td>\n",
       "      <td>0.0</td>\n",
       "      <td>2.0</td>\n",
       "      <td>108.0</td>\n",
       "      <td>1.0</td>\n",
       "      <td>1.5</td>\n",
       "      <td>2.0</td>\n",
       "      <td>3.0</td>\n",
       "      <td>3.0</td>\n",
       "      <td>2</td>\n",
       "    </tr>\n",
       "    <tr>\n",
       "      <th>2</th>\n",
       "      <td>67.0</td>\n",
       "      <td>1.0</td>\n",
       "      <td>4.0</td>\n",
       "      <td>120.0</td>\n",
       "      <td>229.0</td>\n",
       "      <td>0.0</td>\n",
       "      <td>2.0</td>\n",
       "      <td>129.0</td>\n",
       "      <td>1.0</td>\n",
       "      <td>2.6</td>\n",
       "      <td>2.0</td>\n",
       "      <td>2.0</td>\n",
       "      <td>7.0</td>\n",
       "      <td>1</td>\n",
       "    </tr>\n",
       "    <tr>\n",
       "      <th>3</th>\n",
       "      <td>37.0</td>\n",
       "      <td>1.0</td>\n",
       "      <td>3.0</td>\n",
       "      <td>130.0</td>\n",
       "      <td>250.0</td>\n",
       "      <td>0.0</td>\n",
       "      <td>0.0</td>\n",
       "      <td>187.0</td>\n",
       "      <td>0.0</td>\n",
       "      <td>3.5</td>\n",
       "      <td>3.0</td>\n",
       "      <td>0.0</td>\n",
       "      <td>3.0</td>\n",
       "      <td>0</td>\n",
       "    </tr>\n",
       "    <tr>\n",
       "      <th>4</th>\n",
       "      <td>41.0</td>\n",
       "      <td>0.0</td>\n",
       "      <td>2.0</td>\n",
       "      <td>130.0</td>\n",
       "      <td>204.0</td>\n",
       "      <td>0.0</td>\n",
       "      <td>2.0</td>\n",
       "      <td>172.0</td>\n",
       "      <td>0.0</td>\n",
       "      <td>1.4</td>\n",
       "      <td>1.0</td>\n",
       "      <td>0.0</td>\n",
       "      <td>3.0</td>\n",
       "      <td>0</td>\n",
       "    </tr>\n",
       "  </tbody>\n",
       "</table>\n",
       "</div>"
      ],
      "text/plain": [
       "     0    1    2      3      4    5    6      7    8    9    10   11   12  13\n",
       "0  63.0  1.0  1.0  145.0  233.0  1.0  2.0  150.0  0.0  2.3  3.0  0.0  6.0   0\n",
       "1  67.0  1.0  4.0  160.0  286.0  0.0  2.0  108.0  1.0  1.5  2.0  3.0  3.0   2\n",
       "2  67.0  1.0  4.0  120.0  229.0  0.0  2.0  129.0  1.0  2.6  2.0  2.0  7.0   1\n",
       "3  37.0  1.0  3.0  130.0  250.0  0.0  0.0  187.0  0.0  3.5  3.0  0.0  3.0   0\n",
       "4  41.0  0.0  2.0  130.0  204.0  0.0  2.0  172.0  0.0  1.4  1.0  0.0  3.0   0"
      ]
     },
     "execution_count": 36,
     "metadata": {},
     "output_type": "execute_result"
    }
   ],
   "source": [
    "## Checking the data\n",
    "df.head()"
   ]
  },
  {
   "cell_type": "markdown",
   "id": "1f356106-fe5e-42e1-a5b3-0175c4f17b76",
   "metadata": {},
   "source": [
    "Replacing the column numbers by names, from the UCI repository site:\n",
    "Only 14 attributes used:\n",
    "1. #3 (age)\n",
    "2. #4 (sex)\n",
    "3. #9 (cp)          - chest pain\n",
    "4. #10 (trestbps)   - restbp is resting blood pressure\n",
    "5. #12 (chol)       - serum cholesterol\n",
    "6. #16 (fbs)        - fasting blood sugar\n",
    "7. #19 (restecg)    - resting ecg result\n",
    "8. #32 (thalach)    - maximum heart rate achieved\n",
    "9. #38 (exang)      - exercise induced angina\n",
    "10. #40 (oldpeak)   - ST depression induced by ecervise relative to rest\n",
    "11. #41 (slope)     - slope of the peak exercise ST segment\n",
    "12. #44 (ca)        - number of major vessels (0-3) colored by fluoroscopy\n",
    "13. #51 (thal)      - short thalium heart scan\n",
    "14. #58 (hd)        - predicted diagnosis of heart disease"
   ]
  },
  {
   "cell_type": "code",
   "execution_count": 37,
   "id": "2f7a93cb-241b-4be9-9457-5a06bcfbc7bd",
   "metadata": {},
   "outputs": [
    {
     "data": {
      "text/html": [
       "<div>\n",
       "<style scoped>\n",
       "    .dataframe tbody tr th:only-of-type {\n",
       "        vertical-align: middle;\n",
       "    }\n",
       "\n",
       "    .dataframe tbody tr th {\n",
       "        vertical-align: top;\n",
       "    }\n",
       "\n",
       "    .dataframe thead th {\n",
       "        text-align: right;\n",
       "    }\n",
       "</style>\n",
       "<table border=\"1\" class=\"dataframe\">\n",
       "  <thead>\n",
       "    <tr style=\"text-align: right;\">\n",
       "      <th></th>\n",
       "      <th>age</th>\n",
       "      <th>sex</th>\n",
       "      <th>cp</th>\n",
       "      <th>restbps</th>\n",
       "      <th>chol</th>\n",
       "      <th>fbs</th>\n",
       "      <th>restecg</th>\n",
       "      <th>thalach</th>\n",
       "      <th>exang</th>\n",
       "      <th>oldpeak</th>\n",
       "      <th>slope</th>\n",
       "      <th>ca</th>\n",
       "      <th>thal</th>\n",
       "      <th>hd</th>\n",
       "    </tr>\n",
       "  </thead>\n",
       "  <tbody>\n",
       "    <tr>\n",
       "      <th>0</th>\n",
       "      <td>63.0</td>\n",
       "      <td>1.0</td>\n",
       "      <td>1.0</td>\n",
       "      <td>145.0</td>\n",
       "      <td>233.0</td>\n",
       "      <td>1.0</td>\n",
       "      <td>2.0</td>\n",
       "      <td>150.0</td>\n",
       "      <td>0.0</td>\n",
       "      <td>2.3</td>\n",
       "      <td>3.0</td>\n",
       "      <td>0.0</td>\n",
       "      <td>6.0</td>\n",
       "      <td>0</td>\n",
       "    </tr>\n",
       "    <tr>\n",
       "      <th>1</th>\n",
       "      <td>67.0</td>\n",
       "      <td>1.0</td>\n",
       "      <td>4.0</td>\n",
       "      <td>160.0</td>\n",
       "      <td>286.0</td>\n",
       "      <td>0.0</td>\n",
       "      <td>2.0</td>\n",
       "      <td>108.0</td>\n",
       "      <td>1.0</td>\n",
       "      <td>1.5</td>\n",
       "      <td>2.0</td>\n",
       "      <td>3.0</td>\n",
       "      <td>3.0</td>\n",
       "      <td>2</td>\n",
       "    </tr>\n",
       "    <tr>\n",
       "      <th>2</th>\n",
       "      <td>67.0</td>\n",
       "      <td>1.0</td>\n",
       "      <td>4.0</td>\n",
       "      <td>120.0</td>\n",
       "      <td>229.0</td>\n",
       "      <td>0.0</td>\n",
       "      <td>2.0</td>\n",
       "      <td>129.0</td>\n",
       "      <td>1.0</td>\n",
       "      <td>2.6</td>\n",
       "      <td>2.0</td>\n",
       "      <td>2.0</td>\n",
       "      <td>7.0</td>\n",
       "      <td>1</td>\n",
       "    </tr>\n",
       "    <tr>\n",
       "      <th>3</th>\n",
       "      <td>37.0</td>\n",
       "      <td>1.0</td>\n",
       "      <td>3.0</td>\n",
       "      <td>130.0</td>\n",
       "      <td>250.0</td>\n",
       "      <td>0.0</td>\n",
       "      <td>0.0</td>\n",
       "      <td>187.0</td>\n",
       "      <td>0.0</td>\n",
       "      <td>3.5</td>\n",
       "      <td>3.0</td>\n",
       "      <td>0.0</td>\n",
       "      <td>3.0</td>\n",
       "      <td>0</td>\n",
       "    </tr>\n",
       "    <tr>\n",
       "      <th>4</th>\n",
       "      <td>41.0</td>\n",
       "      <td>0.0</td>\n",
       "      <td>2.0</td>\n",
       "      <td>130.0</td>\n",
       "      <td>204.0</td>\n",
       "      <td>0.0</td>\n",
       "      <td>2.0</td>\n",
       "      <td>172.0</td>\n",
       "      <td>0.0</td>\n",
       "      <td>1.4</td>\n",
       "      <td>1.0</td>\n",
       "      <td>0.0</td>\n",
       "      <td>3.0</td>\n",
       "      <td>0</td>\n",
       "    </tr>\n",
       "  </tbody>\n",
       "</table>\n",
       "</div>"
      ],
      "text/plain": [
       "    age  sex   cp  restbps   chol  fbs  restecg  thalach  exang  oldpeak  \\\n",
       "0  63.0  1.0  1.0    145.0  233.0  1.0      2.0    150.0    0.0      2.3   \n",
       "1  67.0  1.0  4.0    160.0  286.0  0.0      2.0    108.0    1.0      1.5   \n",
       "2  67.0  1.0  4.0    120.0  229.0  0.0      2.0    129.0    1.0      2.6   \n",
       "3  37.0  1.0  3.0    130.0  250.0  0.0      0.0    187.0    0.0      3.5   \n",
       "4  41.0  0.0  2.0    130.0  204.0  0.0      2.0    172.0    0.0      1.4   \n",
       "\n",
       "   slope   ca thal  hd  \n",
       "0    3.0  0.0  6.0   0  \n",
       "1    2.0  3.0  3.0   2  \n",
       "2    2.0  2.0  7.0   1  \n",
       "3    3.0  0.0  3.0   0  \n",
       "4    1.0  0.0  3.0   0  "
      ]
     },
     "execution_count": 37,
     "metadata": {},
     "output_type": "execute_result"
    }
   ],
   "source": [
    "## Changing column numbers to names\n",
    "df.columns = ['age',\n",
    "              'sex',\n",
    "              'cp',\n",
    "              'restbps',\n",
    "              'chol',\n",
    "              'fbs',\n",
    "              'restecg',\n",
    "              'thalach',\n",
    "              'exang',\n",
    "              'oldpeak',\n",
    "              'slope',\n",
    "              'ca',\n",
    "              'thal',\n",
    "              'hd']\n",
    "## Print first 5 columns again\n",
    "df.head()"
   ]
  },
  {
   "cell_type": "markdown",
   "id": "45a5fd33-1a17-4969-97f3-281d639b0663",
   "metadata": {},
   "source": [
    "---"
   ]
  },
  {
   "cell_type": "markdown",
   "id": "0d1b94bf-4a43-44b1-b1c0-f3ff87764f8a",
   "metadata": {},
   "source": [
    "Identifying and dealing with missing data either by removing or imputing"
   ]
  },
  {
   "cell_type": "code",
   "execution_count": 38,
   "id": "9ab4cc09-9777-44e2-a7e4-b107f9731fb0",
   "metadata": {},
   "outputs": [
    {
     "data": {
      "text/plain": [
       "age        float64\n",
       "sex        float64\n",
       "cp         float64\n",
       "restbps    float64\n",
       "chol       float64\n",
       "fbs        float64\n",
       "restecg    float64\n",
       "thalach    float64\n",
       "exang      float64\n",
       "oldpeak    float64\n",
       "slope      float64\n",
       "ca          object\n",
       "thal        object\n",
       "hd           int64\n",
       "dtype: object"
      ]
     },
     "execution_count": 38,
     "metadata": {},
     "output_type": "execute_result"
    }
   ],
   "source": [
    "## Checking what data the df has\n",
    "df.dtypes"
   ]
  },
  {
   "cell_type": "code",
   "execution_count": 39,
   "id": "160d768c-7570-4e4a-973d-15fbe970b7c9",
   "metadata": {},
   "outputs": [
    {
     "data": {
      "text/plain": [
       "array(['0.0', '3.0', '2.0', '1.0', '?'], dtype=object)"
      ]
     },
     "execution_count": 39,
     "metadata": {},
     "output_type": "execute_result"
    }
   ],
   "source": [
    "## check what hapens at 'ca'\n",
    "df['ca'].unique()"
   ]
  },
  {
   "cell_type": "markdown",
   "id": "0e4d4167-44d0-48ff-90c2-fad019f77c88",
   "metadata": {},
   "source": [
    "So, the questionmarks are inserted causing there to be more than 1 data type"
   ]
  },
  {
   "cell_type": "code",
   "execution_count": 40,
   "id": "641c59dd-57e5-4faf-a804-688f4c422dbc",
   "metadata": {},
   "outputs": [
    {
     "data": {
      "text/plain": [
       "array(['6.0', '3.0', '7.0', '?'], dtype=object)"
      ]
     },
     "execution_count": 40,
     "metadata": {},
     "output_type": "execute_result"
    }
   ],
   "source": [
    "## check what happens at 'thal'\n",
    "df['thal'].unique()"
   ]
  },
  {
   "cell_type": "markdown",
   "id": "16996ce1-6f3d-4683-9421-ab040a7b29b2",
   "metadata": {},
   "source": [
    "Here we find the same as before"
   ]
  },
  {
   "cell_type": "markdown",
   "id": "dbd80e68-3798-4db5-8a8b-e1318b9b1947",
   "metadata": {},
   "source": [
    "---"
   ]
  },
  {
   "cell_type": "markdown",
   "id": "29a4db2e-2cb8-4721-9363-27b5bbbbf90b",
   "metadata": {},
   "source": [
    "Dealing with missing data"
   ]
  },
  {
   "cell_type": "markdown",
   "id": "778bf99a-4b10-45a7-9ddf-b8df0badc325",
   "metadata": {},
   "source": [
    "First we count the number of rows with missing data using loc (to find rows) and len (to find the length of the output of loc)"
   ]
  },
  {
   "cell_type": "code",
   "execution_count": 41,
   "id": "ac5791b1-4b1b-46f7-a219-ec42f7ce1464",
   "metadata": {},
   "outputs": [
    {
     "data": {
      "text/plain": [
       "6"
      ]
     },
     "execution_count": 41,
     "metadata": {},
     "output_type": "execute_result"
    }
   ],
   "source": [
    "## prints the number of rows under the 'ca' and 'thal' columns that miss data\n",
    "len(df.loc[(df['ca'] == '?')\n",
    "          |\n",
    "          (df['thal'] == '?')])"
   ]
  },
  {
   "cell_type": "code",
   "execution_count": 42,
   "id": "8891bc81-df96-428b-be25-bfd77dcb5602",
   "metadata": {},
   "outputs": [
    {
     "data": {
      "text/html": [
       "<div>\n",
       "<style scoped>\n",
       "    .dataframe tbody tr th:only-of-type {\n",
       "        vertical-align: middle;\n",
       "    }\n",
       "\n",
       "    .dataframe tbody tr th {\n",
       "        vertical-align: top;\n",
       "    }\n",
       "\n",
       "    .dataframe thead th {\n",
       "        text-align: right;\n",
       "    }\n",
       "</style>\n",
       "<table border=\"1\" class=\"dataframe\">\n",
       "  <thead>\n",
       "    <tr style=\"text-align: right;\">\n",
       "      <th></th>\n",
       "      <th>age</th>\n",
       "      <th>sex</th>\n",
       "      <th>cp</th>\n",
       "      <th>restbps</th>\n",
       "      <th>chol</th>\n",
       "      <th>fbs</th>\n",
       "      <th>restecg</th>\n",
       "      <th>thalach</th>\n",
       "      <th>exang</th>\n",
       "      <th>oldpeak</th>\n",
       "      <th>slope</th>\n",
       "      <th>ca</th>\n",
       "      <th>thal</th>\n",
       "      <th>hd</th>\n",
       "    </tr>\n",
       "  </thead>\n",
       "  <tbody>\n",
       "    <tr>\n",
       "      <th>87</th>\n",
       "      <td>53.0</td>\n",
       "      <td>0.0</td>\n",
       "      <td>3.0</td>\n",
       "      <td>128.0</td>\n",
       "      <td>216.0</td>\n",
       "      <td>0.0</td>\n",
       "      <td>2.0</td>\n",
       "      <td>115.0</td>\n",
       "      <td>0.0</td>\n",
       "      <td>0.0</td>\n",
       "      <td>1.0</td>\n",
       "      <td>0.0</td>\n",
       "      <td>?</td>\n",
       "      <td>0</td>\n",
       "    </tr>\n",
       "    <tr>\n",
       "      <th>166</th>\n",
       "      <td>52.0</td>\n",
       "      <td>1.0</td>\n",
       "      <td>3.0</td>\n",
       "      <td>138.0</td>\n",
       "      <td>223.0</td>\n",
       "      <td>0.0</td>\n",
       "      <td>0.0</td>\n",
       "      <td>169.0</td>\n",
       "      <td>0.0</td>\n",
       "      <td>0.0</td>\n",
       "      <td>1.0</td>\n",
       "      <td>?</td>\n",
       "      <td>3.0</td>\n",
       "      <td>0</td>\n",
       "    </tr>\n",
       "    <tr>\n",
       "      <th>192</th>\n",
       "      <td>43.0</td>\n",
       "      <td>1.0</td>\n",
       "      <td>4.0</td>\n",
       "      <td>132.0</td>\n",
       "      <td>247.0</td>\n",
       "      <td>1.0</td>\n",
       "      <td>2.0</td>\n",
       "      <td>143.0</td>\n",
       "      <td>1.0</td>\n",
       "      <td>0.1</td>\n",
       "      <td>2.0</td>\n",
       "      <td>?</td>\n",
       "      <td>7.0</td>\n",
       "      <td>1</td>\n",
       "    </tr>\n",
       "    <tr>\n",
       "      <th>266</th>\n",
       "      <td>52.0</td>\n",
       "      <td>1.0</td>\n",
       "      <td>4.0</td>\n",
       "      <td>128.0</td>\n",
       "      <td>204.0</td>\n",
       "      <td>1.0</td>\n",
       "      <td>0.0</td>\n",
       "      <td>156.0</td>\n",
       "      <td>1.0</td>\n",
       "      <td>1.0</td>\n",
       "      <td>2.0</td>\n",
       "      <td>0.0</td>\n",
       "      <td>?</td>\n",
       "      <td>2</td>\n",
       "    </tr>\n",
       "    <tr>\n",
       "      <th>287</th>\n",
       "      <td>58.0</td>\n",
       "      <td>1.0</td>\n",
       "      <td>2.0</td>\n",
       "      <td>125.0</td>\n",
       "      <td>220.0</td>\n",
       "      <td>0.0</td>\n",
       "      <td>0.0</td>\n",
       "      <td>144.0</td>\n",
       "      <td>0.0</td>\n",
       "      <td>0.4</td>\n",
       "      <td>2.0</td>\n",
       "      <td>?</td>\n",
       "      <td>7.0</td>\n",
       "      <td>0</td>\n",
       "    </tr>\n",
       "    <tr>\n",
       "      <th>302</th>\n",
       "      <td>38.0</td>\n",
       "      <td>1.0</td>\n",
       "      <td>3.0</td>\n",
       "      <td>138.0</td>\n",
       "      <td>175.0</td>\n",
       "      <td>0.0</td>\n",
       "      <td>0.0</td>\n",
       "      <td>173.0</td>\n",
       "      <td>0.0</td>\n",
       "      <td>0.0</td>\n",
       "      <td>1.0</td>\n",
       "      <td>?</td>\n",
       "      <td>3.0</td>\n",
       "      <td>0</td>\n",
       "    </tr>\n",
       "  </tbody>\n",
       "</table>\n",
       "</div>"
      ],
      "text/plain": [
       "      age  sex   cp  restbps   chol  fbs  restecg  thalach  exang  oldpeak  \\\n",
       "87   53.0  0.0  3.0    128.0  216.0  0.0      2.0    115.0    0.0      0.0   \n",
       "166  52.0  1.0  3.0    138.0  223.0  0.0      0.0    169.0    0.0      0.0   \n",
       "192  43.0  1.0  4.0    132.0  247.0  1.0      2.0    143.0    1.0      0.1   \n",
       "266  52.0  1.0  4.0    128.0  204.0  1.0      0.0    156.0    1.0      1.0   \n",
       "287  58.0  1.0  2.0    125.0  220.0  0.0      0.0    144.0    0.0      0.4   \n",
       "302  38.0  1.0  3.0    138.0  175.0  0.0      0.0    173.0    0.0      0.0   \n",
       "\n",
       "     slope   ca thal  hd  \n",
       "87     1.0  0.0    ?   0  \n",
       "166    1.0    ?  3.0   0  \n",
       "192    2.0    ?  7.0   1  \n",
       "266    2.0  0.0    ?   2  \n",
       "287    2.0    ?  7.0   0  \n",
       "302    1.0    ?  3.0   0  "
      ]
     },
     "execution_count": 42,
     "metadata": {},
     "output_type": "execute_result"
    }
   ],
   "source": [
    "## looking at these rows separately\n",
    "df.loc[(df['ca'] == '?')\n",
    "        |\n",
    "        (df['thal'] == '?')]"
   ]
  },
  {
   "cell_type": "code",
   "execution_count": 43,
   "id": "02ec5ff5-a797-41f1-a2d3-e009cf74b87d",
   "metadata": {},
   "outputs": [
    {
     "data": {
      "text/plain": [
       "303"
      ]
     },
     "execution_count": 43,
     "metadata": {},
     "output_type": "execute_result"
    }
   ],
   "source": [
    "## checking the number of rows in the whole dataset\n",
    "len(df)"
   ]
  },
  {
   "cell_type": "code",
   "execution_count": 44,
   "id": "526eb00d-1825-43bc-8562-a894c179854e",
   "metadata": {},
   "outputs": [
    {
     "name": "stdout",
     "output_type": "stream",
     "text": [
      "1.98% of the rows contains missing data\n"
     ]
    }
   ],
   "source": [
    "print(str(round((len(df.loc[(df['ca'] == '?')\n",
    "                            |\n",
    "                            (df['thal'] == '?')]) \n",
    "                            / len(df)) * 100, 2)) + '% of the rows contains missing data')"
   ]
  },
  {
   "cell_type": "markdown",
   "id": "156a40c4-c9a9-45d6-8e45-12281f1ef5b6",
   "metadata": {},
   "source": [
    "Considering it is only two procent of the rows that misses data, these can be removed without affecting the model too much;\n",
    "this leaves the analysis with 303 - 6 = 297 rows to build a Decision Tree on."
   ]
  },
  {
   "cell_type": "code",
   "execution_count": 45,
   "id": "8c2f1049-b7c4-4134-8b45-a8fcb03dfcce",
   "metadata": {},
   "outputs": [],
   "source": [
    "## creating a new DataFrame that excludes rows that miss data\n",
    "df_nm = df.loc[(df['ca'] != '?')\n",
    "               &\n",
    "               (df['thal'] != '?')]"
   ]
  },
  {
   "cell_type": "code",
   "execution_count": 46,
   "id": "9a1a9667-a740-461c-9e39-a8cfbc7386c4",
   "metadata": {},
   "outputs": [
    {
     "data": {
      "text/plain": [
       "297"
      ]
     },
     "execution_count": 46,
     "metadata": {},
     "output_type": "execute_result"
    }
   ],
   "source": [
    "len(df_nm)"
   ]
  },
  {
   "cell_type": "code",
   "execution_count": 47,
   "id": "55e0e540-d37d-4c3a-89c5-f87f63716a4e",
   "metadata": {},
   "outputs": [
    {
     "data": {
      "text/plain": [
       "array(['0.0', '3.0', '2.0', '1.0'], dtype=object)"
      ]
     },
     "execution_count": 47,
     "metadata": {},
     "output_type": "execute_result"
    }
   ],
   "source": [
    "df_nm['ca'].unique()"
   ]
  },
  {
   "cell_type": "code",
   "execution_count": 48,
   "id": "178d76f8-cae2-4ddc-b592-08f52b273cd6",
   "metadata": {},
   "outputs": [
    {
     "data": {
      "text/plain": [
       "array(['6.0', '3.0', '7.0'], dtype=object)"
      ]
     },
     "execution_count": 48,
     "metadata": {},
     "output_type": "execute_result"
    }
   ],
   "source": [
    "df_nm['thal'].unique()"
   ]
  },
  {
   "cell_type": "markdown",
   "id": "1722cb98-953e-42c5-a262-3f76f4a5a005",
   "metadata": {},
   "source": [
    "Now we are sure the data set does not contain missing values, though, the data types are still objects"
   ]
  },
  {
   "cell_type": "markdown",
   "id": "b5d2153b-7291-4e37-8c6d-3a1dd03629e5",
   "metadata": {},
   "source": [
    "---"
   ]
  },
  {
   "cell_type": "markdown",
   "id": "5bebbf19-1d0a-4b9b-86d8-6571efe9e0b5",
   "metadata": {},
   "source": [
    "Splitting data into the dependent and independent variables"
   ]
  },
  {
   "cell_type": "code",
   "execution_count": 49,
   "id": "ba969a97-873b-4eef-9f2b-d33bf895034a",
   "metadata": {},
   "outputs": [
    {
     "data": {
      "text/html": [
       "<div>\n",
       "<style scoped>\n",
       "    .dataframe tbody tr th:only-of-type {\n",
       "        vertical-align: middle;\n",
       "    }\n",
       "\n",
       "    .dataframe tbody tr th {\n",
       "        vertical-align: top;\n",
       "    }\n",
       "\n",
       "    .dataframe thead th {\n",
       "        text-align: right;\n",
       "    }\n",
       "</style>\n",
       "<table border=\"1\" class=\"dataframe\">\n",
       "  <thead>\n",
       "    <tr style=\"text-align: right;\">\n",
       "      <th></th>\n",
       "      <th>age</th>\n",
       "      <th>sex</th>\n",
       "      <th>cp</th>\n",
       "      <th>restbps</th>\n",
       "      <th>chol</th>\n",
       "      <th>fbs</th>\n",
       "      <th>restecg</th>\n",
       "      <th>thalach</th>\n",
       "      <th>exang</th>\n",
       "      <th>oldpeak</th>\n",
       "      <th>slope</th>\n",
       "      <th>ca</th>\n",
       "      <th>thal</th>\n",
       "    </tr>\n",
       "  </thead>\n",
       "  <tbody>\n",
       "    <tr>\n",
       "      <th>0</th>\n",
       "      <td>63.0</td>\n",
       "      <td>1.0</td>\n",
       "      <td>1.0</td>\n",
       "      <td>145.0</td>\n",
       "      <td>233.0</td>\n",
       "      <td>1.0</td>\n",
       "      <td>2.0</td>\n",
       "      <td>150.0</td>\n",
       "      <td>0.0</td>\n",
       "      <td>2.3</td>\n",
       "      <td>3.0</td>\n",
       "      <td>0.0</td>\n",
       "      <td>6.0</td>\n",
       "    </tr>\n",
       "    <tr>\n",
       "      <th>1</th>\n",
       "      <td>67.0</td>\n",
       "      <td>1.0</td>\n",
       "      <td>4.0</td>\n",
       "      <td>160.0</td>\n",
       "      <td>286.0</td>\n",
       "      <td>0.0</td>\n",
       "      <td>2.0</td>\n",
       "      <td>108.0</td>\n",
       "      <td>1.0</td>\n",
       "      <td>1.5</td>\n",
       "      <td>2.0</td>\n",
       "      <td>3.0</td>\n",
       "      <td>3.0</td>\n",
       "    </tr>\n",
       "    <tr>\n",
       "      <th>2</th>\n",
       "      <td>67.0</td>\n",
       "      <td>1.0</td>\n",
       "      <td>4.0</td>\n",
       "      <td>120.0</td>\n",
       "      <td>229.0</td>\n",
       "      <td>0.0</td>\n",
       "      <td>2.0</td>\n",
       "      <td>129.0</td>\n",
       "      <td>1.0</td>\n",
       "      <td>2.6</td>\n",
       "      <td>2.0</td>\n",
       "      <td>2.0</td>\n",
       "      <td>7.0</td>\n",
       "    </tr>\n",
       "    <tr>\n",
       "      <th>3</th>\n",
       "      <td>37.0</td>\n",
       "      <td>1.0</td>\n",
       "      <td>3.0</td>\n",
       "      <td>130.0</td>\n",
       "      <td>250.0</td>\n",
       "      <td>0.0</td>\n",
       "      <td>0.0</td>\n",
       "      <td>187.0</td>\n",
       "      <td>0.0</td>\n",
       "      <td>3.5</td>\n",
       "      <td>3.0</td>\n",
       "      <td>0.0</td>\n",
       "      <td>3.0</td>\n",
       "    </tr>\n",
       "    <tr>\n",
       "      <th>4</th>\n",
       "      <td>41.0</td>\n",
       "      <td>0.0</td>\n",
       "      <td>2.0</td>\n",
       "      <td>130.0</td>\n",
       "      <td>204.0</td>\n",
       "      <td>0.0</td>\n",
       "      <td>2.0</td>\n",
       "      <td>172.0</td>\n",
       "      <td>0.0</td>\n",
       "      <td>1.4</td>\n",
       "      <td>1.0</td>\n",
       "      <td>0.0</td>\n",
       "      <td>3.0</td>\n",
       "    </tr>\n",
       "  </tbody>\n",
       "</table>\n",
       "</div>"
      ],
      "text/plain": [
       "    age  sex   cp  restbps   chol  fbs  restecg  thalach  exang  oldpeak  \\\n",
       "0  63.0  1.0  1.0    145.0  233.0  1.0      2.0    150.0    0.0      2.3   \n",
       "1  67.0  1.0  4.0    160.0  286.0  0.0      2.0    108.0    1.0      1.5   \n",
       "2  67.0  1.0  4.0    120.0  229.0  0.0      2.0    129.0    1.0      2.6   \n",
       "3  37.0  1.0  3.0    130.0  250.0  0.0      0.0    187.0    0.0      3.5   \n",
       "4  41.0  0.0  2.0    130.0  204.0  0.0      2.0    172.0    0.0      1.4   \n",
       "\n",
       "   slope   ca thal  \n",
       "0    3.0  0.0  6.0  \n",
       "1    2.0  3.0  3.0  \n",
       "2    2.0  2.0  7.0  \n",
       "3    3.0  0.0  3.0  \n",
       "4    1.0  0.0  3.0  "
      ]
     },
     "execution_count": 49,
     "metadata": {},
     "output_type": "execute_result"
    }
   ],
   "source": [
    "## Copying the X data in\n",
    "X = df_nm.drop('hd', axis=1).copy()\n",
    "\n",
    "# Alternatively:\n",
    "# X = df_nm.iloc[:,:-1]\n",
    "\n",
    "X.head()"
   ]
  },
  {
   "cell_type": "code",
   "execution_count": 50,
   "id": "f875c74a-7124-482e-a6ed-836da16d7d52",
   "metadata": {},
   "outputs": [
    {
     "data": {
      "text/plain": [
       "0    0\n",
       "1    2\n",
       "2    1\n",
       "3    0\n",
       "4    0\n",
       "Name: hd, dtype: int64"
      ]
     },
     "execution_count": 50,
     "metadata": {},
     "output_type": "execute_result"
    }
   ],
   "source": [
    "## Copying the y data in\n",
    "y = df_nm['hd'].copy()\n",
    "y.head()"
   ]
  },
  {
   "cell_type": "markdown",
   "id": "faf12e5a-24f3-462b-a76b-f0bc812023d6",
   "metadata": {},
   "source": [
    "---"
   ]
  },
  {
   "cell_type": "markdown",
   "id": "b8defe0a-967c-4e5b-aaec-7a5cb8bd683d",
   "metadata": {},
   "source": [
    "Separating data in floats and categories"
   ]
  },
  {
   "cell_type": "code",
   "execution_count": 51,
   "id": "cd62c2a4-03ba-40ac-9fa1-4ac7b9063263",
   "metadata": {},
   "outputs": [
    {
     "data": {
      "text/plain": [
       "age        float64\n",
       "sex        float64\n",
       "cp         float64\n",
       "restbps    float64\n",
       "chol       float64\n",
       "fbs        float64\n",
       "restecg    float64\n",
       "thalach    float64\n",
       "exang      float64\n",
       "oldpeak    float64\n",
       "slope      float64\n",
       "ca          object\n",
       "thal        object\n",
       "dtype: object"
      ]
     },
     "execution_count": 51,
     "metadata": {},
     "output_type": "execute_result"
    }
   ],
   "source": [
    "X.dtypes"
   ]
  },
  {
   "cell_type": "markdown",
   "id": "9693572d-6d30-4cb2-9f38-1ff3860254ab",
   "metadata": {},
   "source": [
    "age, restbp, chol and thalach are correctly labelled float, but the rest are categorical and treated as continuous\n",
    "\n",
    "For example, if we treat 'chest pain' as floats, the classification '1' (typical angina) and '3' (non-anginal pain) are assumed to be equally distinct from eachother as '2' (atypical angina) and '4' ('asymptomatic') but less so than '1' and '2' or '3' and '4'; these are quantifications that we cannot make and therefore we see them as distinct but equal clategories (or classes)"
   ]
  },
  {
   "cell_type": "markdown",
   "id": "f20fd49c-9e55-4a75-b8a4-efa380b21d70",
   "metadata": {},
   "source": [
    "Looking at cp,"
   ]
  },
  {
   "cell_type": "code",
   "execution_count": 52,
   "id": "145442e4-8c4c-4f80-8732-24563b228837",
   "metadata": {},
   "outputs": [
    {
     "data": {
      "text/plain": [
       "array([1., 4., 3., 2.])"
      ]
     },
     "execution_count": 52,
     "metadata": {},
     "output_type": "execute_result"
    }
   ],
   "source": [
    "X['cp'].unique()"
   ]
  },
  {
   "cell_type": "markdown",
   "id": "09244c23-1ad7-466d-ad28-25eb14b95005",
   "metadata": {},
   "source": [
    "Using get_dummies() for One-Hot Encoding -- note that ColumnTransformer() from scikit-learn is also an option"
   ]
  },
  {
   "cell_type": "code",
   "execution_count": 53,
   "id": "5595b6fe-cb54-4e13-9ac7-163df63a89e5",
   "metadata": {},
   "outputs": [
    {
     "data": {
      "text/html": [
       "<div>\n",
       "<style scoped>\n",
       "    .dataframe tbody tr th:only-of-type {\n",
       "        vertical-align: middle;\n",
       "    }\n",
       "\n",
       "    .dataframe tbody tr th {\n",
       "        vertical-align: top;\n",
       "    }\n",
       "\n",
       "    .dataframe thead th {\n",
       "        text-align: right;\n",
       "    }\n",
       "</style>\n",
       "<table border=\"1\" class=\"dataframe\">\n",
       "  <thead>\n",
       "    <tr style=\"text-align: right;\">\n",
       "      <th></th>\n",
       "      <th>age</th>\n",
       "      <th>sex</th>\n",
       "      <th>restbps</th>\n",
       "      <th>chol</th>\n",
       "      <th>fbs</th>\n",
       "      <th>restecg</th>\n",
       "      <th>thalach</th>\n",
       "      <th>exang</th>\n",
       "      <th>oldpeak</th>\n",
       "      <th>slope</th>\n",
       "      <th>ca</th>\n",
       "      <th>thal</th>\n",
       "      <th>cp_1.0</th>\n",
       "      <th>cp_2.0</th>\n",
       "      <th>cp_3.0</th>\n",
       "      <th>cp_4.0</th>\n",
       "    </tr>\n",
       "  </thead>\n",
       "  <tbody>\n",
       "    <tr>\n",
       "      <th>0</th>\n",
       "      <td>63.0</td>\n",
       "      <td>1.0</td>\n",
       "      <td>145.0</td>\n",
       "      <td>233.0</td>\n",
       "      <td>1.0</td>\n",
       "      <td>2.0</td>\n",
       "      <td>150.0</td>\n",
       "      <td>0.0</td>\n",
       "      <td>2.3</td>\n",
       "      <td>3.0</td>\n",
       "      <td>0.0</td>\n",
       "      <td>6.0</td>\n",
       "      <td>1</td>\n",
       "      <td>0</td>\n",
       "      <td>0</td>\n",
       "      <td>0</td>\n",
       "    </tr>\n",
       "    <tr>\n",
       "      <th>1</th>\n",
       "      <td>67.0</td>\n",
       "      <td>1.0</td>\n",
       "      <td>160.0</td>\n",
       "      <td>286.0</td>\n",
       "      <td>0.0</td>\n",
       "      <td>2.0</td>\n",
       "      <td>108.0</td>\n",
       "      <td>1.0</td>\n",
       "      <td>1.5</td>\n",
       "      <td>2.0</td>\n",
       "      <td>3.0</td>\n",
       "      <td>3.0</td>\n",
       "      <td>0</td>\n",
       "      <td>0</td>\n",
       "      <td>0</td>\n",
       "      <td>1</td>\n",
       "    </tr>\n",
       "    <tr>\n",
       "      <th>2</th>\n",
       "      <td>67.0</td>\n",
       "      <td>1.0</td>\n",
       "      <td>120.0</td>\n",
       "      <td>229.0</td>\n",
       "      <td>0.0</td>\n",
       "      <td>2.0</td>\n",
       "      <td>129.0</td>\n",
       "      <td>1.0</td>\n",
       "      <td>2.6</td>\n",
       "      <td>2.0</td>\n",
       "      <td>2.0</td>\n",
       "      <td>7.0</td>\n",
       "      <td>0</td>\n",
       "      <td>0</td>\n",
       "      <td>0</td>\n",
       "      <td>1</td>\n",
       "    </tr>\n",
       "    <tr>\n",
       "      <th>3</th>\n",
       "      <td>37.0</td>\n",
       "      <td>1.0</td>\n",
       "      <td>130.0</td>\n",
       "      <td>250.0</td>\n",
       "      <td>0.0</td>\n",
       "      <td>0.0</td>\n",
       "      <td>187.0</td>\n",
       "      <td>0.0</td>\n",
       "      <td>3.5</td>\n",
       "      <td>3.0</td>\n",
       "      <td>0.0</td>\n",
       "      <td>3.0</td>\n",
       "      <td>0</td>\n",
       "      <td>0</td>\n",
       "      <td>1</td>\n",
       "      <td>0</td>\n",
       "    </tr>\n",
       "    <tr>\n",
       "      <th>4</th>\n",
       "      <td>41.0</td>\n",
       "      <td>0.0</td>\n",
       "      <td>130.0</td>\n",
       "      <td>204.0</td>\n",
       "      <td>0.0</td>\n",
       "      <td>2.0</td>\n",
       "      <td>172.0</td>\n",
       "      <td>0.0</td>\n",
       "      <td>1.4</td>\n",
       "      <td>1.0</td>\n",
       "      <td>0.0</td>\n",
       "      <td>3.0</td>\n",
       "      <td>0</td>\n",
       "      <td>1</td>\n",
       "      <td>0</td>\n",
       "      <td>0</td>\n",
       "    </tr>\n",
       "  </tbody>\n",
       "</table>\n",
       "</div>"
      ],
      "text/plain": [
       "    age  sex  restbps   chol  fbs  restecg  thalach  exang  oldpeak  slope  \\\n",
       "0  63.0  1.0    145.0  233.0  1.0      2.0    150.0    0.0      2.3    3.0   \n",
       "1  67.0  1.0    160.0  286.0  0.0      2.0    108.0    1.0      1.5    2.0   \n",
       "2  67.0  1.0    120.0  229.0  0.0      2.0    129.0    1.0      2.6    2.0   \n",
       "3  37.0  1.0    130.0  250.0  0.0      0.0    187.0    0.0      3.5    3.0   \n",
       "4  41.0  0.0    130.0  204.0  0.0      2.0    172.0    0.0      1.4    1.0   \n",
       "\n",
       "    ca thal  cp_1.0  cp_2.0  cp_3.0  cp_4.0  \n",
       "0  0.0  6.0       1       0       0       0  \n",
       "1  3.0  3.0       0       0       0       1  \n",
       "2  2.0  7.0       0       0       0       1  \n",
       "3  0.0  3.0       0       0       1       0  \n",
       "4  0.0  3.0       0       1       0       0  "
      ]
     },
     "execution_count": 53,
     "metadata": {},
     "output_type": "execute_result"
    }
   ],
   "source": [
    "## testing get_dummies()\n",
    "pd.get_dummies(X, columns=['cp']).head()"
   ]
  },
  {
   "cell_type": "code",
   "execution_count": 54,
   "id": "6d37b116-6e95-4a25-a02f-f180b926ba91",
   "metadata": {},
   "outputs": [
    {
     "data": {
      "text/html": [
       "<div>\n",
       "<style scoped>\n",
       "    .dataframe tbody tr th:only-of-type {\n",
       "        vertical-align: middle;\n",
       "    }\n",
       "\n",
       "    .dataframe tbody tr th {\n",
       "        vertical-align: top;\n",
       "    }\n",
       "\n",
       "    .dataframe thead th {\n",
       "        text-align: right;\n",
       "    }\n",
       "</style>\n",
       "<table border=\"1\" class=\"dataframe\">\n",
       "  <thead>\n",
       "    <tr style=\"text-align: right;\">\n",
       "      <th></th>\n",
       "      <th>age</th>\n",
       "      <th>sex</th>\n",
       "      <th>restbps</th>\n",
       "      <th>chol</th>\n",
       "      <th>fbs</th>\n",
       "      <th>thalach</th>\n",
       "      <th>exang</th>\n",
       "      <th>oldpeak</th>\n",
       "      <th>ca</th>\n",
       "      <th>cp_1.0</th>\n",
       "      <th>...</th>\n",
       "      <th>cp_4.0</th>\n",
       "      <th>restecg_0.0</th>\n",
       "      <th>restecg_1.0</th>\n",
       "      <th>restecg_2.0</th>\n",
       "      <th>slope_1.0</th>\n",
       "      <th>slope_2.0</th>\n",
       "      <th>slope_3.0</th>\n",
       "      <th>thal_3.0</th>\n",
       "      <th>thal_6.0</th>\n",
       "      <th>thal_7.0</th>\n",
       "    </tr>\n",
       "  </thead>\n",
       "  <tbody>\n",
       "    <tr>\n",
       "      <th>0</th>\n",
       "      <td>63.0</td>\n",
       "      <td>1.0</td>\n",
       "      <td>145.0</td>\n",
       "      <td>233.0</td>\n",
       "      <td>1.0</td>\n",
       "      <td>150.0</td>\n",
       "      <td>0.0</td>\n",
       "      <td>2.3</td>\n",
       "      <td>0.0</td>\n",
       "      <td>1</td>\n",
       "      <td>...</td>\n",
       "      <td>0</td>\n",
       "      <td>0</td>\n",
       "      <td>0</td>\n",
       "      <td>1</td>\n",
       "      <td>0</td>\n",
       "      <td>0</td>\n",
       "      <td>1</td>\n",
       "      <td>0</td>\n",
       "      <td>1</td>\n",
       "      <td>0</td>\n",
       "    </tr>\n",
       "    <tr>\n",
       "      <th>1</th>\n",
       "      <td>67.0</td>\n",
       "      <td>1.0</td>\n",
       "      <td>160.0</td>\n",
       "      <td>286.0</td>\n",
       "      <td>0.0</td>\n",
       "      <td>108.0</td>\n",
       "      <td>1.0</td>\n",
       "      <td>1.5</td>\n",
       "      <td>3.0</td>\n",
       "      <td>0</td>\n",
       "      <td>...</td>\n",
       "      <td>1</td>\n",
       "      <td>0</td>\n",
       "      <td>0</td>\n",
       "      <td>1</td>\n",
       "      <td>0</td>\n",
       "      <td>1</td>\n",
       "      <td>0</td>\n",
       "      <td>1</td>\n",
       "      <td>0</td>\n",
       "      <td>0</td>\n",
       "    </tr>\n",
       "    <tr>\n",
       "      <th>2</th>\n",
       "      <td>67.0</td>\n",
       "      <td>1.0</td>\n",
       "      <td>120.0</td>\n",
       "      <td>229.0</td>\n",
       "      <td>0.0</td>\n",
       "      <td>129.0</td>\n",
       "      <td>1.0</td>\n",
       "      <td>2.6</td>\n",
       "      <td>2.0</td>\n",
       "      <td>0</td>\n",
       "      <td>...</td>\n",
       "      <td>1</td>\n",
       "      <td>0</td>\n",
       "      <td>0</td>\n",
       "      <td>1</td>\n",
       "      <td>0</td>\n",
       "      <td>1</td>\n",
       "      <td>0</td>\n",
       "      <td>0</td>\n",
       "      <td>0</td>\n",
       "      <td>1</td>\n",
       "    </tr>\n",
       "    <tr>\n",
       "      <th>3</th>\n",
       "      <td>37.0</td>\n",
       "      <td>1.0</td>\n",
       "      <td>130.0</td>\n",
       "      <td>250.0</td>\n",
       "      <td>0.0</td>\n",
       "      <td>187.0</td>\n",
       "      <td>0.0</td>\n",
       "      <td>3.5</td>\n",
       "      <td>0.0</td>\n",
       "      <td>0</td>\n",
       "      <td>...</td>\n",
       "      <td>0</td>\n",
       "      <td>1</td>\n",
       "      <td>0</td>\n",
       "      <td>0</td>\n",
       "      <td>0</td>\n",
       "      <td>0</td>\n",
       "      <td>1</td>\n",
       "      <td>1</td>\n",
       "      <td>0</td>\n",
       "      <td>0</td>\n",
       "    </tr>\n",
       "    <tr>\n",
       "      <th>4</th>\n",
       "      <td>41.0</td>\n",
       "      <td>0.0</td>\n",
       "      <td>130.0</td>\n",
       "      <td>204.0</td>\n",
       "      <td>0.0</td>\n",
       "      <td>172.0</td>\n",
       "      <td>0.0</td>\n",
       "      <td>1.4</td>\n",
       "      <td>0.0</td>\n",
       "      <td>0</td>\n",
       "      <td>...</td>\n",
       "      <td>0</td>\n",
       "      <td>0</td>\n",
       "      <td>0</td>\n",
       "      <td>1</td>\n",
       "      <td>1</td>\n",
       "      <td>0</td>\n",
       "      <td>0</td>\n",
       "      <td>1</td>\n",
       "      <td>0</td>\n",
       "      <td>0</td>\n",
       "    </tr>\n",
       "  </tbody>\n",
       "</table>\n",
       "<p>5 rows × 22 columns</p>\n",
       "</div>"
      ],
      "text/plain": [
       "    age  sex  restbps   chol  fbs  thalach  exang  oldpeak   ca  cp_1.0  ...  \\\n",
       "0  63.0  1.0    145.0  233.0  1.0    150.0    0.0      2.3  0.0       1  ...   \n",
       "1  67.0  1.0    160.0  286.0  0.0    108.0    1.0      1.5  3.0       0  ...   \n",
       "2  67.0  1.0    120.0  229.0  0.0    129.0    1.0      2.6  2.0       0  ...   \n",
       "3  37.0  1.0    130.0  250.0  0.0    187.0    0.0      3.5  0.0       0  ...   \n",
       "4  41.0  0.0    130.0  204.0  0.0    172.0    0.0      1.4  0.0       0  ...   \n",
       "\n",
       "   cp_4.0  restecg_0.0  restecg_1.0  restecg_2.0  slope_1.0  slope_2.0  \\\n",
       "0       0            0            0            1          0          0   \n",
       "1       1            0            0            1          0          1   \n",
       "2       1            0            0            1          0          1   \n",
       "3       0            1            0            0          0          0   \n",
       "4       0            0            0            1          1          0   \n",
       "\n",
       "   slope_3.0  thal_3.0  thal_6.0  thal_7.0  \n",
       "0          1         0         1         0  \n",
       "1          0         1         0         0  \n",
       "2          0         0         0         1  \n",
       "3          1         1         0         0  \n",
       "4          0         1         0         0  \n",
       "\n",
       "[5 rows x 22 columns]"
      ]
     },
     "execution_count": 54,
     "metadata": {},
     "output_type": "execute_result"
    }
   ],
   "source": [
    "## changing all categorical columns into separate ones\n",
    "X_encoded = pd.get_dummies(X, columns=['cp',\n",
    "                                       'restecg',\n",
    "                                       'slope',\n",
    "                                       'thal'])\n",
    "X_encoded.head()"
   ]
  },
  {
   "cell_type": "markdown",
   "id": "021c8a44-f659-49b6-aa3c-268ee6dfb118",
   "metadata": {},
   "source": [
    "Checking y"
   ]
  },
  {
   "cell_type": "code",
   "execution_count": 55,
   "id": "fd7faa1f-2954-489b-b9f2-e8fb45db60d2",
   "metadata": {},
   "outputs": [
    {
     "data": {
      "text/plain": [
       "array([0, 2, 1, 3, 4], dtype=int64)"
      ]
     },
     "execution_count": 55,
     "metadata": {},
     "output_type": "execute_result"
    }
   ],
   "source": [
    "y.unique()"
   ]
  },
  {
   "cell_type": "markdown",
   "id": "a304c7bb-5ebf-4fc1-b741-c433b38810ce",
   "metadata": {},
   "source": [
    "Whether the patient has heart disease will be turned into a yes/no question;\n",
    "here '0' indicates no heart disease,\n",
    "so, > 0 indicates a heart disease (with varying classifications)"
   ]
  },
  {
   "cell_type": "code",
   "execution_count": 78,
   "id": "e71a81cb-1a4b-4916-aaa3-4c8581be20f2",
   "metadata": {},
   "outputs": [
    {
     "data": {
      "text/plain": [
       "0      0\n",
       "1      1\n",
       "2      1\n",
       "3      0\n",
       "4      0\n",
       "      ..\n",
       "297    1\n",
       "298    1\n",
       "299    1\n",
       "300    1\n",
       "301    1\n",
       "Name: hd, Length: 297, dtype: int64"
      ]
     },
     "execution_count": 78,
     "metadata": {},
     "output_type": "execute_result"
    }
   ],
   "source": [
    "## Reformatting the y-data\n",
    "y[y > 0] = 1\n",
    "y.unique()"
   ]
  },
  {
   "cell_type": "markdown",
   "id": "26f756d3-9aa2-489c-8d5d-2419277a2828",
   "metadata": {},
   "source": [
    "---"
   ]
  },
  {
   "cell_type": "markdown",
   "id": "3c522ae9-52ab-4aea-99e6-386a9743414e",
   "metadata": {},
   "source": [
    "Building unoptimised (preliminary) classification tree"
   ]
  },
  {
   "cell_type": "code",
   "execution_count": 57,
   "id": "b57cf745-bac0-420c-8a28-f2b707eed3ba",
   "metadata": {},
   "outputs": [],
   "source": [
    "## splitting data in train and test sets\n",
    "X_train, X_test, y_train, y_test = train_test_split(X_encoded, y, random_state=42)\n",
    "\n",
    "## create a decision tree and fit it on the training data\n",
    "clf_dt = DecisionTreeClassifier(random_state=42)\n",
    "clf_dt = clf_dt.fit(X_train, y_train)"
   ]
  },
  {
   "cell_type": "code",
   "execution_count": 58,
   "id": "7653a570-fd8f-439c-97a6-3774557a04c1",
   "metadata": {},
   "outputs": [
    {
     "data": {
      "image/png": "[encoded data removed]",
      "text/plain": [
       "<Figure size 1080x540 with 1 Axes>"
      ]
     },
     "metadata": {
      "needs_background": "light"
     },
     "output_type": "display_data"
    }
   ],
   "source": [
    "## plot the tree\n",
    "plt.figure(figsize=(15,7.5))\n",
    "plot_tree(clf_dt,\n",
    "          filled=True,\n",
    "          rounded=True,\n",
    "          class_names=[\"No HD\", \"Yes HD\"],\n",
    "          feature_names=X_encoded.columns);"
   ]
  },
  {
   "cell_type": "markdown",
   "id": "e81a37a7-6eb7-485b-b09a-bbe513f0ed04",
   "metadata": {},
   "source": [
    "Using a confusion matrix on the test dataset"
   ]
  },
  {
   "cell_type": "code",
   "execution_count": 59,
   "id": "73f6b192-d47c-4221-aae6-b4599c993fdf",
   "metadata": {},
   "outputs": [
    {
     "data": {
      "text/plain": [
       "<sklearn.metrics._plot.confusion_matrix.ConfusionMatrixDisplay at 0x18d676913d0>"
      ]
     },
     "execution_count": 59,
     "metadata": {},
     "output_type": "execute_result"
    },
    {
     "data": {
      "image/png": "[encoded data removed]",
      "text/plain": [
       "<Figure size 432x288 with 2 Axes>"
      ]
     },
     "metadata": {
      "needs_background": "light"
     },
     "output_type": "display_data"
    }
   ],
   "source": [
    "## creates a confusion matrix to see false +ves and -ves\n",
    "plot_confusion_matrix(clf_dt, X_test, y_test, display_labels=[\"Does not have HD\", \"Has HD\"])"
   ]
  },
  {
   "cell_type": "markdown",
   "id": "4af8b96b-6db7-4b1a-9864-bfe498a0f255",
   "metadata": {},
   "source": [
    "Might need pruning to solve overfitting"
   ]
  },
  {
   "cell_type": "markdown",
   "id": "e304180b-e31b-472c-8c52-022bd976ec1a",
   "metadata": {},
   "source": [
    "---"
   ]
  },
  {
   "cell_type": "markdown",
   "id": "4499152e-82d7-4d88-bdfd-796d4102c59b",
   "metadata": {},
   "source": [
    "Cost Complexity Pruning"
   ]
  },
  {
   "cell_type": "code",
   "execution_count": 60,
   "id": "8c791a16-afb7-4285-958e-14048093f55b",
   "metadata": {},
   "outputs": [],
   "source": [
    "path = clf_dt.cost_complexity_pruning_path(X_train, y_train)\n",
    "ccp_alphas = path.ccp_alphas\n",
    "ccp_alphas = ccp_alphas[:-1]\n",
    "\n",
    "clf_dts = []\n",
    "\n",
    "## create decision trees for each alpha (sum of squared residuals?)\n",
    "for ccp_alpha in ccp_alphas:\n",
    "        clf_dt = DecisionTreeClassifier(random_state=0, ccp_alpha=ccp_alpha)\n",
    "        clf_dt.fit(X_train, y_train)\n",
    "        clf_dts.append(clf_dt)"
   ]
  },
  {
   "cell_type": "code",
   "execution_count": 61,
   "id": "1d4b02c0-54b0-420b-a579-0495da3780ea",
   "metadata": {},
   "outputs": [
    {
     "data": {
      "image/png": "[encoded data removed]",
      "text/plain": [
       "<Figure size 432x288 with 1 Axes>"
      ]
     },
     "metadata": {
      "needs_background": "light"
     },
     "output_type": "display_data"
    }
   ],
   "source": [
    "train_scores = [clf_dt.score(X_train, y_train) for clf_dt in clf_dts]\n",
    "test_scores = [clf_dt.score(X_test, y_test) for clf_dt in clf_dts]\n",
    "\n",
    "fig, ax = plt.subplots()\n",
    "ax.set_xlabel(\"alpha\")\n",
    "ax.set_ylabel(\"accuracy\")\n",
    "ax.set_title(\"Accuracy vs alpha for training and testing sets\")\n",
    "ax.plot(ccp_alphas, train_scores, marker='o', label=\"train\", drawstyle=\"steps-post\")\n",
    "ax.plot(ccp_alphas, test_scores, marker='o', label=\"test\", drawstyle=\"steps-post\")\n",
    "ax.legend()\n",
    "plt.show()"
   ]
  },
  {
   "cell_type": "markdown",
   "id": "73520179-8815-4d10-9468-e028e364efd2",
   "metadata": {},
   "source": [
    "---"
   ]
  },
  {
   "cell_type": "markdown",
   "id": "b83113cd-5daf-4565-aaff-7499d6daccfc",
   "metadata": {},
   "source": [
    "Using cross validation"
   ]
  },
  {
   "cell_type": "code",
   "execution_count": 62,
   "id": "f45297a0-853b-4f22-961e-f04863c4b929",
   "metadata": {},
   "outputs": [
    {
     "data": {
      "text/plain": [
       "<AxesSubplot:xlabel='tree'>"
      ]
     },
     "execution_count": 62,
     "metadata": {},
     "output_type": "execute_result"
    },
    {
     "data": {
      "image/png": "[encoded data removed]",
      "text/plain": [
       "<Figure size 432x288 with 1 Axes>"
      ]
     },
     "metadata": {
      "needs_background": "light"
     },
     "output_type": "display_data"
    }
   ],
   "source": [
    "## decision tree with found alpha=0.016\n",
    "clf_dt = DecisionTreeClassifier(random_state=42, ccp_alpha=0.016)\n",
    "\n",
    "## cross validating using 5-fold validation\n",
    "scores = cross_val_score(clf_dt, X_train, y_train, cv=5)\n",
    "df = pd.DataFrame(data={'tree': range(5), 'accuracy': scores})\n",
    "\n",
    "## plotting the accuracy against generated trees\n",
    "df.plot(x='tree', y='accuracy', marker='o', linestyle='--')"
   ]
  },
  {
   "cell_type": "code",
   "execution_count": 63,
   "id": "42aaccf3-5e82-4206-ba46-4486c17fc1dc",
   "metadata": {},
   "outputs": [
    {
     "data": {
      "text/plain": [
       "<AxesSubplot:xlabel='alpha'>"
      ]
     },
     "execution_count": 63,
     "metadata": {},
     "output_type": "execute_result"
    },
    {
     "data": {
      "image/png": "[encoded data removed]",
      "text/plain": [
       "<Figure size 432x288 with 1 Axes>"
      ]
     },
     "metadata": {
      "needs_background": "light"
     },
     "output_type": "display_data"
    }
   ],
   "source": [
    "## generating different accuracies for each alpha\n",
    "## to confirm the needed alpha value\n",
    "alpha_loop_values = []\n",
    "\n",
    "for ccp_alpha in ccp_alphas:\n",
    "    clf_dt = DecisionTreeClassifier(random_state=0, ccp_alpha=ccp_alpha)\n",
    "    scores = cross_val_score(clf_dt, X_train, y_train, cv=5)\n",
    "    alpha_loop_values.append([ccp_alpha, np.mean(scores), np.std(scores)])\n",
    "\n",
    "\n",
    "alpha_results= pd.DataFrame(alpha_loop_values,\n",
    "                            columns=['alpha', 'mean_accuracy', 'std'])\n",
    "\n",
    "alpha_results.plot(x='alpha',\n",
    "                  y='mean_accuracy',\n",
    "                  yerr='std',\n",
    "                  marker='o',\n",
    "                  linestyle='--')"
   ]
  },
  {
   "cell_type": "code",
   "execution_count": 64,
   "id": "e32a4007-609c-454e-8111-d6dfd4f91d30",
   "metadata": {},
   "outputs": [
    {
     "data": {
      "text/html": [
       "<div>\n",
       "<style scoped>\n",
       "    .dataframe tbody tr th:only-of-type {\n",
       "        vertical-align: middle;\n",
       "    }\n",
       "\n",
       "    .dataframe tbody tr th {\n",
       "        vertical-align: top;\n",
       "    }\n",
       "\n",
       "    .dataframe thead th {\n",
       "        text-align: right;\n",
       "    }\n",
       "</style>\n",
       "<table border=\"1\" class=\"dataframe\">\n",
       "  <thead>\n",
       "    <tr style=\"text-align: right;\">\n",
       "      <th></th>\n",
       "      <th>alpha</th>\n",
       "      <th>mean_accuracy</th>\n",
       "      <th>std</th>\n",
       "    </tr>\n",
       "  </thead>\n",
       "  <tbody>\n",
       "    <tr>\n",
       "      <th>20</th>\n",
       "      <td>0.014225</td>\n",
       "      <td>0.747778</td>\n",
       "      <td>0.091395</td>\n",
       "    </tr>\n",
       "  </tbody>\n",
       "</table>\n",
       "</div>"
      ],
      "text/plain": [
       "       alpha  mean_accuracy       std\n",
       "20  0.014225       0.747778  0.091395"
      ]
     },
     "execution_count": 64,
     "metadata": {},
     "output_type": "execute_result"
    }
   ],
   "source": [
    "## finding the poin alpha in range [0.014; 0.015]\n",
    "alpha_results[(alpha_results['alpha'] > 0.014)\n",
    "              &\n",
    "              (alpha_results['alpha'] < 0.015)]"
   ]
  },
  {
   "cell_type": "code",
   "execution_count": 67,
   "id": "debc301b-30c8-4ecb-be13-5a20bf52377a",
   "metadata": {},
   "outputs": [
    {
     "data": {
      "text/plain": [
       "20    0.014225\n",
       "Name: alpha, dtype: float64"
      ]
     },
     "execution_count": 67,
     "metadata": {},
     "output_type": "execute_result"
    }
   ],
   "source": [
    "## storing the ideal alpha\n",
    "ideal_ccp_alpha = alpha_results[(alpha_results['alpha'] > 0.014)\n",
    "                              &\n",
    "                              (alpha_results['alpha'] < 0.015)]['alpha']\n",
    "ideal_ccp_alpha"
   ]
  },
  {
   "cell_type": "code",
   "execution_count": 69,
   "id": "c4d82aab-f386-453f-9e32-212174a5501c",
   "metadata": {},
   "outputs": [
    {
     "data": {
      "text/plain": [
       "0.014224751066856332"
      ]
     },
     "execution_count": 69,
     "metadata": {},
     "output_type": "execute_result"
    }
   ],
   "source": [
    "## converting ideal alpha to float from series\n",
    "ideal_ccp_alpha = float(ideal_ccp_alpha)\n",
    "ideal_ccp_alpha"
   ]
  },
  {
   "cell_type": "markdown",
   "id": "c54b399e-7143-4a96-bab4-74660939a3fb",
   "metadata": {},
   "source": [
    "We can now generate the correct clf tree"
   ]
  },
  {
   "cell_type": "markdown",
   "id": "08656782-152c-4e6a-beae-df9f792a4c1b",
   "metadata": {},
   "source": [
    "---"
   ]
  },
  {
   "cell_type": "markdown",
   "id": "e01762d5-c2a2-4bba-ad44-76cf56bc4ad9",
   "metadata": {},
   "source": [
    "Building, Evaluating, Drawing and Interpreting the Final Classification Tree"
   ]
  },
  {
   "cell_type": "code",
   "execution_count": 71,
   "id": "31be32ee-67fd-40ee-912d-0cde48079934",
   "metadata": {},
   "outputs": [],
   "source": [
    "## Creating the final decision tree with found alpha\n",
    "clf_dt_pruned = DecisionTreeClassifier(random_state=42,\n",
    "                                      ccp_alpha=ideal_ccp_alpha)\n",
    "clf_dt_pruned = clf_dt_pruned.fit(X_train, y_train)"
   ]
  },
  {
   "cell_type": "code",
   "execution_count": 73,
   "id": "3557ae36-de0b-4d3c-82dd-867b794f3ae1",
   "metadata": {},
   "outputs": [
    {
     "data": {
      "text/plain": [
       "<sklearn.metrics._plot.confusion_matrix.ConfusionMatrixDisplay at 0x18d6828f850>"
      ]
     },
     "execution_count": 73,
     "metadata": {},
     "output_type": "execute_result"
    },
    {
     "data": {
      "image/png": "[encoded data removed]",
      "text/plain": [
       "<Figure size 432x288 with 2 Axes>"
      ]
     },
     "metadata": {
      "needs_background": "light"
     },
     "output_type": "display_data"
    }
   ],
   "source": [
    "## plotting a confusion matrix for validation\n",
    "plot_confusion_matrix(clf_dt_pruned,\n",
    "                      X_test,\n",
    "                      y_test,\n",
    "                      display_labels=[\"Does not have HD\", \"Has HD\"])"
   ]
  },
  {
   "cell_type": "markdown",
   "id": "6759733d-1a94-484f-b553-c324a7df6144",
   "metadata": {},
   "source": [
    "The pruned tree has better accuracy (less false +ves and +ves) than the full-sized tree"
   ]
  },
  {
   "cell_type": "code",
   "execution_count": 77,
   "id": "f1b64ccf-39e5-42fb-a378-9bc11e1bcba6",
   "metadata": {},
   "outputs": [
    {
     "data": {
      "image/png": "[encoded data removed]",
      "text/plain": [
       "<Figure size 1080x540 with 1 Axes>"
      ]
     },
     "metadata": {
      "needs_background": "light"
     },
     "output_type": "display_data"
    }
   ],
   "source": [
    "plt.figure(figsize=(15,7.5))\n",
    "plot_tree(clf_dt_pruned,\n",
    "          filled=True,\n",
    "          rounded=True,\n",
    "          class_names=[\"No HD\", \"Yes HD\"],\n",
    "          feature_names=X_encoded.columns);"
   ]
  },
  {
   "cell_type": "markdown",
   "id": "27e7fdae-1ced-4611-8932-e0bee03dc5ef",
   "metadata": {},
   "source": [
    "DONE: Final decision tree :)"
   ]
  }
 ],
 "metadata": {
  "kernelspec": {
   "display_name": "Python 3",
   "language": "python",
   "name": "python3"
  },
  "language_info": {
   "codemirror_mode": {
    "name": "ipython",
    "version": 3
   },
   "file_extension": ".py",
   "mimetype": "text/x-python",
   "name": "python",
   "nbconvert_exporter": "python",
   "pygments_lexer": "ipython3",
   "version": "3.8.10"
  }
 },
 "nbformat": 4,
 "nbformat_minor": 5
}
