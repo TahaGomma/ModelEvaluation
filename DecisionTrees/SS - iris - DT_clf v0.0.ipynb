{
 "cells": [
  {
   "cell_type": "markdown",
   "id": "f83f7c39-4b34-4456-bf8d-ea451f9fe0b3",
   "metadata": {},
   "source": [
    "# Flower Classification from the Iris Dataset\n",
    "\n",
    "Using the Iris Dataset and a Classification Decision Tree, flowers will be classified in their respective species"
   ]
  },
  {
   "cell_type": "markdown",
   "id": "c95e6904-be8a-4298-b4b9-5323696352ff",
   "metadata": {},
   "source": [
    "## Preparation\n",
    "First, all relevant packages will be imported"
   ]
  },
  {
   "cell_type": "code",
   "execution_count": 360,
   "id": "60304121-a54d-4f1f-b389-83bef6b02d8e",
   "metadata": {},
   "outputs": [],
   "source": [
    "import pandas as pd\n",
    "import numpy as np\n",
    "import matplotlib as plt\n",
    "from sklearn.tree import DecisionTreeClassifier\n",
    "from sklearn.tree import plot_tree\n",
    "from sklearn.model_selection import train_test_split\n",
    "from sklearn.model_selection import cross_val_score\n",
    "from sklearn.metrics import confusion_matrix\n",
    "from sklearn.metrics import plot_confusion_matrix"
   ]
  },
  {
   "cell_type": "markdown",
   "id": "c17c5e03-3237-4af4-b420-7fd9acf61e34",
   "metadata": {},
   "source": [
    "Now, importing the data and displaying the first couple of rows"
   ]
  },
  {
   "cell_type": "code",
   "execution_count": 361,
   "id": "3782c0b9-dac7-480e-9da2-a3e71a8c0b01",
   "metadata": {},
   "outputs": [
    {
     "data": {
      "text/html": [
       "<div>\n",
       "<style scoped>\n",
       "    .dataframe tbody tr th:only-of-type {\n",
       "        vertical-align: middle;\n",
       "    }\n",
       "\n",
       "    .dataframe tbody tr th {\n",
       "        vertical-align: top;\n",
       "    }\n",
       "\n",
       "    .dataframe thead th {\n",
       "        text-align: right;\n",
       "    }\n",
       "</style>\n",
       "<table border=\"1\" class=\"dataframe\">\n",
       "  <thead>\n",
       "    <tr style=\"text-align: right;\">\n",
       "      <th></th>\n",
       "      <th>0</th>\n",
       "      <th>1</th>\n",
       "      <th>2</th>\n",
       "      <th>3</th>\n",
       "      <th>4</th>\n",
       "    </tr>\n",
       "  </thead>\n",
       "  <tbody>\n",
       "    <tr>\n",
       "      <th>0</th>\n",
       "      <td>5.1</td>\n",
       "      <td>3.5</td>\n",
       "      <td>1.4</td>\n",
       "      <td>0.2</td>\n",
       "      <td>Iris-setosa</td>\n",
       "    </tr>\n",
       "    <tr>\n",
       "      <th>1</th>\n",
       "      <td>4.9</td>\n",
       "      <td>3.0</td>\n",
       "      <td>1.4</td>\n",
       "      <td>0.2</td>\n",
       "      <td>Iris-setosa</td>\n",
       "    </tr>\n",
       "    <tr>\n",
       "      <th>2</th>\n",
       "      <td>4.7</td>\n",
       "      <td>3.2</td>\n",
       "      <td>1.3</td>\n",
       "      <td>0.2</td>\n",
       "      <td>Iris-setosa</td>\n",
       "    </tr>\n",
       "    <tr>\n",
       "      <th>3</th>\n",
       "      <td>4.6</td>\n",
       "      <td>3.1</td>\n",
       "      <td>1.5</td>\n",
       "      <td>0.2</td>\n",
       "      <td>Iris-setosa</td>\n",
       "    </tr>\n",
       "    <tr>\n",
       "      <th>4</th>\n",
       "      <td>5.0</td>\n",
       "      <td>3.6</td>\n",
       "      <td>1.4</td>\n",
       "      <td>0.2</td>\n",
       "      <td>Iris-setosa</td>\n",
       "    </tr>\n",
       "  </tbody>\n",
       "</table>\n",
       "</div>"
      ],
      "text/plain": [
       "     0    1    2    3            4\n",
       "0  5.1  3.5  1.4  0.2  Iris-setosa\n",
       "1  4.9  3.0  1.4  0.2  Iris-setosa\n",
       "2  4.7  3.2  1.3  0.2  Iris-setosa\n",
       "3  4.6  3.1  1.5  0.2  Iris-setosa\n",
       "4  5.0  3.6  1.4  0.2  Iris-setosa"
      ]
     },
     "execution_count": 361,
     "metadata": {},
     "output_type": "execute_result"
    }
   ],
   "source": [
    "## Importing iris data from the UCI repository from the URL\n",
    "df = pd.read_csv('https://archive.ics.uci.edu/ml/machine-learning-databases/iris/iris.data'\n",
    "                  ,header=None)\n",
    "\n",
    "## Displaying the first 5 rows\n",
    "df.head()"
   ]
  },
  {
   "cell_type": "markdown",
   "id": "15e92673-b3d3-4c18-a54b-7283806af018",
   "metadata": {},
   "source": [
    "From the repository's site we know:\n",
    "Attribute Information:\n",
    "\n",
    "1. sepal length in cm\n",
    "2. sepal width in cm\n",
    "3. petal length in cm\n",
    "4. petal width in cm\n",
    "5. class:\n",
    "    - Iris Setosa\n",
    "    - Iris Versicolour\n",
    "    - Iris Virginica\n",
    "\n",
    "Corresponding to the columns 0 to 4"
   ]
  },
  {
   "cell_type": "code",
   "execution_count": 362,
   "id": "0d633719-eaa2-4f31-8ff1-cd275ede0b76",
   "metadata": {},
   "outputs": [
    {
     "data": {
      "text/html": [
       "<div>\n",
       "<style scoped>\n",
       "    .dataframe tbody tr th:only-of-type {\n",
       "        vertical-align: middle;\n",
       "    }\n",
       "\n",
       "    .dataframe tbody tr th {\n",
       "        vertical-align: top;\n",
       "    }\n",
       "\n",
       "    .dataframe thead th {\n",
       "        text-align: right;\n",
       "    }\n",
       "</style>\n",
       "<table border=\"1\" class=\"dataframe\">\n",
       "  <thead>\n",
       "    <tr style=\"text-align: right;\">\n",
       "      <th></th>\n",
       "      <th>sep_length</th>\n",
       "      <th>sep_width</th>\n",
       "      <th>pet_length</th>\n",
       "      <th>pet_width</th>\n",
       "      <th>class</th>\n",
       "    </tr>\n",
       "  </thead>\n",
       "  <tbody>\n",
       "    <tr>\n",
       "      <th>0</th>\n",
       "      <td>5.1</td>\n",
       "      <td>3.5</td>\n",
       "      <td>1.4</td>\n",
       "      <td>0.2</td>\n",
       "      <td>Iris-setosa</td>\n",
       "    </tr>\n",
       "    <tr>\n",
       "      <th>1</th>\n",
       "      <td>4.9</td>\n",
       "      <td>3.0</td>\n",
       "      <td>1.4</td>\n",
       "      <td>0.2</td>\n",
       "      <td>Iris-setosa</td>\n",
       "    </tr>\n",
       "    <tr>\n",
       "      <th>2</th>\n",
       "      <td>4.7</td>\n",
       "      <td>3.2</td>\n",
       "      <td>1.3</td>\n",
       "      <td>0.2</td>\n",
       "      <td>Iris-setosa</td>\n",
       "    </tr>\n",
       "    <tr>\n",
       "      <th>3</th>\n",
       "      <td>4.6</td>\n",
       "      <td>3.1</td>\n",
       "      <td>1.5</td>\n",
       "      <td>0.2</td>\n",
       "      <td>Iris-setosa</td>\n",
       "    </tr>\n",
       "    <tr>\n",
       "      <th>4</th>\n",
       "      <td>5.0</td>\n",
       "      <td>3.6</td>\n",
       "      <td>1.4</td>\n",
       "      <td>0.2</td>\n",
       "      <td>Iris-setosa</td>\n",
       "    </tr>\n",
       "  </tbody>\n",
       "</table>\n",
       "</div>"
      ],
      "text/plain": [
       "   sep_length  sep_width  pet_length  pet_width        class\n",
       "0         5.1        3.5         1.4        0.2  Iris-setosa\n",
       "1         4.9        3.0         1.4        0.2  Iris-setosa\n",
       "2         4.7        3.2         1.3        0.2  Iris-setosa\n",
       "3         4.6        3.1         1.5        0.2  Iris-setosa\n",
       "4         5.0        3.6         1.4        0.2  Iris-setosa"
      ]
     },
     "execution_count": 362,
     "metadata": {},
     "output_type": "execute_result"
    }
   ],
   "source": [
    "## Changing column names correspondingly\n",
    "df.columns = ['sep_length',\n",
    "              'sep_width',\n",
    "              'pet_length',\n",
    "              'pet_width',\n",
    "              'class']\n",
    "df.head()"
   ]
  },
  {
   "cell_type": "markdown",
   "id": "ba0da796-d93c-4fc7-a719-4a181b069c11",
   "metadata": {},
   "source": [
    "### Checking data\n",
    "Checking for empty cells by looking at the data types"
   ]
  },
  {
   "cell_type": "code",
   "execution_count": 363,
   "id": "e60d193f-df41-4cb6-9ccd-16d6dbfb6bd9",
   "metadata": {},
   "outputs": [
    {
     "data": {
      "text/plain": [
       "sep_length    float64\n",
       "sep_width     float64\n",
       "pet_length    float64\n",
       "pet_width     float64\n",
       "class          object\n",
       "dtype: object"
      ]
     },
     "execution_count": 363,
     "metadata": {},
     "output_type": "execute_result"
    }
   ],
   "source": [
    "df.dtypes"
   ]
  },
  {
   "cell_type": "markdown",
   "id": "c912b76f-d3b1-4ccb-b87e-a07b9b731c8c",
   "metadata": {},
   "source": [
    "All data seems to fit the expectations, so there might not be a need to reclassify for the x-data"
   ]
  },
  {
   "cell_type": "code",
   "execution_count": 364,
   "id": "62b609c0-1546-4ca0-a81a-2382aa316860",
   "metadata": {},
   "outputs": [
    {
     "data": {
      "text/plain": [
       "array(['Iris-setosa', 'Iris-versicolor', 'Iris-virginica'], dtype=object)"
      ]
     },
     "execution_count": 364,
     "metadata": {},
     "output_type": "execute_result"
    }
   ],
   "source": [
    "df['class'].unique()"
   ]
  },
  {
   "cell_type": "markdown",
   "id": "77b64657-f2a8-458d-ba53-55dd83138e09",
   "metadata": {},
   "source": [
    "The y-data gives three classes, the data could potentially be split-up in two separate trees: </br>\n",
    "> First, finding whether the plant is setosa or versicolor,</br>\n",
    "> then finding whether the plant is setosa/versicolor or virginica"
   ]
  },
  {
   "attachments": {
    "82b5d1dd-9f71-42b3-87a5-5319a0037ef3.png": {
     "image/png": "[encoded data removed]"
    }
   },
   "cell_type": "markdown",
   "id": "3bcce964-dcde-467b-a5e9-93341bf99c79",
   "metadata": {},
   "source": [
    "From the scikit-learn site (https://scikit-learn.org/stable/auto_examples/datasets/plot_iris_dataset.html?highlight=iris), we can see the separation of the three groups:</br>\n",
    "![image.png](attachment:82b5d1dd-9f71-42b3-87a5-5319a0037ef3.png)</br>\n",
    "For this, the iris unique values will be displayed numerically first, so that they can be classified mathematically."
   ]
  },
  {
   "cell_type": "code",
   "execution_count": 365,
   "id": "1a53054c-b484-4c44-9058-c770680e1f94",
   "metadata": {},
   "outputs": [
    {
     "data": {
      "text/plain": [
       "0"
      ]
     },
     "execution_count": 365,
     "metadata": {},
     "output_type": "execute_result"
    }
   ],
   "source": [
    "## Changing the Iris species into values 0, 1, and 2\n",
    "df['class'] = df['class'].mask(df['class'] == 'Iris-setosa', 0)\n",
    "df['class'] = df['class'].mask(df['class'] == 'Iris-versicolor', 1)\n",
    "df['class'] = df['class'].mask(df['class'] == 'Iris-virginica', 2).astype(int)\n",
    "\n",
    "## Checking datatype\n",
    "df.loc[0,'class']"
   ]
  },
  {
   "cell_type": "code",
   "execution_count": 366,
   "id": "5c5888c6-b743-4866-80f9-ab0cd3151c5c",
   "metadata": {},
   "outputs": [
    {
     "data": {
      "text/html": [
       "<div>\n",
       "<style scoped>\n",
       "    .dataframe tbody tr th:only-of-type {\n",
       "        vertical-align: middle;\n",
       "    }\n",
       "\n",
       "    .dataframe tbody tr th {\n",
       "        vertical-align: top;\n",
       "    }\n",
       "\n",
       "    .dataframe thead th {\n",
       "        text-align: right;\n",
       "    }\n",
       "</style>\n",
       "<table border=\"1\" class=\"dataframe\">\n",
       "  <thead>\n",
       "    <tr style=\"text-align: right;\">\n",
       "      <th></th>\n",
       "      <th>sep_length</th>\n",
       "      <th>sep_width</th>\n",
       "      <th>pet_length</th>\n",
       "      <th>pet_width</th>\n",
       "      <th>class</th>\n",
       "    </tr>\n",
       "  </thead>\n",
       "  <tbody>\n",
       "    <tr>\n",
       "      <th>0</th>\n",
       "      <td>5.1</td>\n",
       "      <td>3.5</td>\n",
       "      <td>1.4</td>\n",
       "      <td>0.2</td>\n",
       "      <td>0</td>\n",
       "    </tr>\n",
       "    <tr>\n",
       "      <th>1</th>\n",
       "      <td>4.9</td>\n",
       "      <td>3.0</td>\n",
       "      <td>1.4</td>\n",
       "      <td>0.2</td>\n",
       "      <td>0</td>\n",
       "    </tr>\n",
       "    <tr>\n",
       "      <th>2</th>\n",
       "      <td>4.7</td>\n",
       "      <td>3.2</td>\n",
       "      <td>1.3</td>\n",
       "      <td>0.2</td>\n",
       "      <td>0</td>\n",
       "    </tr>\n",
       "    <tr>\n",
       "      <th>3</th>\n",
       "      <td>4.6</td>\n",
       "      <td>3.1</td>\n",
       "      <td>1.5</td>\n",
       "      <td>0.2</td>\n",
       "      <td>0</td>\n",
       "    </tr>\n",
       "    <tr>\n",
       "      <th>4</th>\n",
       "      <td>5.0</td>\n",
       "      <td>3.6</td>\n",
       "      <td>1.4</td>\n",
       "      <td>0.2</td>\n",
       "      <td>0</td>\n",
       "    </tr>\n",
       "  </tbody>\n",
       "</table>\n",
       "</div>"
      ],
      "text/plain": [
       "   sep_length  sep_width  pet_length  pet_width  class\n",
       "0         5.1        3.5         1.4        0.2      0\n",
       "1         4.9        3.0         1.4        0.2      0\n",
       "2         4.7        3.2         1.3        0.2      0\n",
       "3         4.6        3.1         1.5        0.2      0\n",
       "4         5.0        3.6         1.4        0.2      0"
      ]
     },
     "execution_count": 366,
     "metadata": {},
     "output_type": "execute_result"
    }
   ],
   "source": [
    "df.head()"
   ]
  },
  {
   "cell_type": "markdown",
   "id": "09facaa3-8daa-46f0-a12d-c6da64f876f5",
   "metadata": {},
   "source": [
    "Changing them by masking might not be the most efficient method, a lambda-function or .repalce might have worked better.</br>\n",
    "The type being an object is not a problem considering that these are classes."
   ]
  },
  {
   "cell_type": "markdown",
   "id": "52ab2c64-4067-4f86-81f0-8ee71dac7ee9",
   "metadata": {},
   "source": [
    "---"
   ]
  },
  {
   "cell_type": "markdown",
   "id": "3f4f75a0-3790-42ad-9943-40ed70557719",
   "metadata": {},
   "source": [
    "## Creating the DecisionTree\n",
    "Starting with splitting the data into X, y and train/test data"
   ]
  },
  {
   "cell_type": "code",
   "execution_count": 367,
   "id": "c61a767d-288b-48f2-a130-59b844aa9961",
   "metadata": {},
   "outputs": [
    {
     "name": "stdout",
     "output_type": "stream",
     "text": [
      "   sep_length  sep_width  pet_length  pet_width\n",
      "0         5.1        3.5         1.4        0.2\n",
      "1         4.9        3.0         1.4        0.2\n",
      "2         4.7        3.2         1.3        0.2\n",
      "3         4.6        3.1         1.5        0.2\n",
      "4         5.0        3.6         1.4        0.2\n",
      "   class\n",
      "0      0\n",
      "1      0\n",
      "2      0\n",
      "3      0\n",
      "4      0\n"
     ]
    }
   ],
   "source": [
    "## Separating the data into X and y\n",
    "X = df.iloc[:,:-1]\n",
    "y = df.iloc[:,-1:]\n",
    "print(X.head())\n",
    "print(y.head())\n",
    "\n",
    "## Splitting the data into training and testing\n",
    "X_train, X_val, y_train, y_val = train_test_split(X, y, random_state=5)"
   ]
  },
  {
   "cell_type": "code",
   "execution_count": 368,
   "id": "208bf518-7907-4e0f-94a7-a5f1ba556e2a",
   "metadata": {},
   "outputs": [
    {
     "data": {
      "text/plain": [
       "sep_length    float64\n",
       "sep_width     float64\n",
       "pet_length    float64\n",
       "pet_width     float64\n",
       "dtype: object"
      ]
     },
     "execution_count": 368,
     "metadata": {},
     "output_type": "execute_result"
    }
   ],
   "source": [
    "X_train.dtypes"
   ]
  },
  {
   "cell_type": "code",
   "execution_count": 369,
   "id": "86a2802d-2c8b-4fa5-9e91-f267928e54f2",
   "metadata": {},
   "outputs": [
    {
     "data": {
      "text/plain": [
       "class    int32\n",
       "dtype: object"
      ]
     },
     "execution_count": 369,
     "metadata": {},
     "output_type": "execute_result"
    }
   ],
   "source": [
    "y_train.dtypes"
   ]
  },
  {
   "cell_type": "code",
   "execution_count": 373,
   "id": "d923cdb2-137f-4c12-9655-feb3009c8d9e",
   "metadata": {},
   "outputs": [],
   "source": [
    "Iris_clf = DecisionTreeClassifier(random_state=5)\n",
    "Iris_clf = Iris_clf.fit(X_train, y_train)"
   ]
  },
  {
   "cell_type": "code",
   "execution_count": 379,
   "id": "7ab01474-542b-4bc0-bbd1-bebf2f2e8e43",
   "metadata": {},
   "outputs": [
    {
     "data": {
      "image/png": "[encoded data removed]",
      "text/plain": [
       "<Figure size 432x288 with 1 Axes>"
      ]
     },
     "metadata": {
      "needs_background": "light"
     },
     "output_type": "display_data"
    }
   ],
   "source": [
    "plot_tree(Iris_clf,\n",
    "          filled=True,\n",
    "          rounded=True,\n",
    "          class_names=[\"setosa\", \"versicolor\", \"virginica\"],\n",
    "          feature_names=X.columns);"
   ]
  }
 ],
 "metadata": {
  "kernelspec": {
   "display_name": "Python 3",
   "language": "python",
   "name": "python3"
  },
  "language_info": {
   "codemirror_mode": {
    "name": "ipython",
    "version": 3
   },
   "file_extension": ".py",
   "mimetype": "text/x-python",
   "name": "python",
   "nbconvert_exporter": "python",
   "pygments_lexer": "ipython3",
   "version": "3.8.10"
  }
 },
 "nbformat": 4,
 "nbformat_minor": 5
}
